{
 "cells": [
  {
   "cell_type": "code",
   "execution_count": 1,
   "metadata": {},
   "outputs": [
    {
     "name": "stderr",
     "output_type": "stream",
     "text": [
      "/anaconda3/lib/python3.6/site-packages/h5py/__init__.py:36: FutureWarning: Conversion of the second argument of issubdtype from `float` to `np.floating` is deprecated. In future, it will be treated as `np.float64 == np.dtype(float).type`.\n",
      "  from ._conv import register_converters as _register_converters\n"
     ]
    }
   ],
   "source": [
    "from __future__ import division, print_function\n",
    "\n",
    "from functools import partial\n",
    "\n",
    "import gpflow\n",
    "import tensorflow as tf\n",
    "import numpy as np\n",
    "import tensorflow as tf\n",
    "import matplotlib.pyplot as plt\n",
    "from scipy import signal, linalg\n",
    "\n",
    "# Nice progress bars\n",
    "try:\n",
    "    from tqdm import tqdm\n",
    "except ImportError:\n",
    "    tqdm = lambda x: x\n",
    "\n",
    "import safe_learning\n",
    "import plotting\n",
    "from utilities import InvertedPendulum\n",
    "\n",
    "%matplotlib inline\n",
    "\n",
    "# Open a new session (close old one if exists)\n",
    "try:\n",
    "    session.close()\n",
    "except NameError:\n",
    "    pass\n",
    "\n",
    "session = tf.InteractiveSession()\n",
    "session.run(tf.global_variables_initializer())"
   ]
  },
  {
   "cell_type": "markdown",
   "metadata": {},
   "source": [
    "# Define underlying dynamic system and costs/rewards\n",
    "Define the dynamics of the true and false system\n"
   ]
  },
  {
   "cell_type": "code",
   "execution_count": 2,
   "metadata": {},
   "outputs": [],
   "source": [
    "\n",
    "\n",
    "# 'Wrong' model parameters\n",
    "mass = 0.1\n",
    "friction = 0.\n",
    "length = 0.5\n",
    "gravity = 100\n",
    "inertia = mass * length ** 2\n",
    "\n",
    "# True model parameters\n",
    "true_mass = 0.15\n",
    "true_friction = 0.1\n",
    "true_length = length\n",
    "true_inertia = true_mass * true_length ** 2\n",
    "\n",
    "# Input saturation\n",
    "x_max = np.deg2rad(30)\n",
    "u_max = gravity * true_mass * true_length * np.sin(x_max)\n",
    "\n",
    "# Normalization\n",
    "norm_state = np.array([x_max, np.sqrt(gravity / length)])\n",
    "norm_action = np.array([u_max])\n",
    "\n",
    "# Corresponding dynamic systems\n",
    "true_dynamics = InvertedPendulum(mass=true_mass, length=true_length, friction=true_friction,\n",
    "                                 normalization=(norm_state, norm_action))\n",
    "\n",
    "wrong_pendulum = InvertedPendulum(mass=mass, length=length, friction=friction,\n",
    "                                  normalization=(norm_state, norm_action))\n",
    "\n",
    "# LQR cost matrices\n",
    "q = 1 * np.diag([1., 2.])\n",
    "r = 1.2 * np.array([[1]], dtype=safe_learning.config.np_dtype)\n",
    "\n",
    "# Quadratic (LQR) reward function\n",
    "gamma = 0.98\n",
    "reward_function = safe_learning.QuadraticFunction(linalg.block_diag(-q, -r))"
   ]
  },
  {
   "cell_type": "markdown",
   "metadata": {},
   "source": [
    "# Set up a discretization for safety verification"
   ]
  },
  {
   "cell_type": "code",
   "execution_count": 3,
   "metadata": {},
   "outputs": [
    {
     "name": "stdout",
     "output_type": "stream",
     "text": [
      "Grid size: 3003501\n"
     ]
    }
   ],
   "source": [
    "# x_min, x_max, discretization\\\n",
    "state_limits = np.array([[-2., 2.], [-1.5, 1.5]])\n",
    "action_limits = np.array([[-1, 1]])\n",
    "num_states = [2001, 1501]\n",
    "\n",
    "safety_disc = safe_learning.GridWorld(state_limits, num_states)\n",
    "policy_disc = safe_learning.GridWorld(state_limits, [55, 55])\n",
    "\n",
    "# Discretization constant\n",
    "tau = np.min(safety_disc.unit_maxes)\n",
    "\n",
    "print('Grid size: {0}'.format(safety_disc.nindex))"
   ]
  },
  {
   "cell_type": "code",
   "execution_count": 4,
   "metadata": {},
   "outputs": [],
   "source": [
    "from safe_learning import config\n",
    "A = np.array([[0, 1],[gravity / length, -friction / inertia]],dtype=config.np_dtype)\n",
    "B = np.array([[0],[1 / inertia]],dtype=config.np_dtype)"
   ]
  },
  {
   "cell_type": "code",
   "execution_count": 5,
   "metadata": {},
   "outputs": [
    {
     "data": {
      "text/plain": [
       "0.025"
      ]
     },
     "execution_count": 5,
     "metadata": {},
     "output_type": "execute_result"
    }
   ],
   "source": [
    "inertia"
   ]
  },
  {
   "cell_type": "code",
   "execution_count": 6,
   "metadata": {},
   "outputs": [
    {
     "data": {
      "text/plain": [
       "(array([[  0.,   1.],\n",
       "        [200.,  -0.]]), array([[ 0.],\n",
       "        [40.]]))"
      ]
     },
     "execution_count": 6,
     "metadata": {},
     "output_type": "execute_result"
    }
   ],
   "source": [
    "A, B "
   ]
  },
  {
   "cell_type": "markdown",
   "metadata": {},
   "source": [
    "# Define the GP dynamics model\n",
    "\n",
    "We use a combination of kernels to model the errors in the dynamics"
   ]
  },
  {
   "cell_type": "code",
   "execution_count": 7,
   "metadata": {},
   "outputs": [],
   "source": [
    "A, B = wrong_pendulum.linearize()\n",
    "lipschitz_dynamics = 1\n",
    "\n",
    "noise_var = 0.001 ** 2\n",
    "\n",
    "m_true = np.hstack((true_dynamics.linearize()))\n",
    "m = np.hstack((A, B))\n",
    "\n",
    "variances = (m_true - m) ** 2\n",
    "\n",
    "# Make sure things remain \n",
    "np.clip(variances, 1e-5, None, out=variances)\n",
    "\n",
    "# Kernels\n",
    "kernel1 = (gpflow.kernels.Linear(3, variance=variances[0, :], ARD=True)\n",
    "           + gpflow.kernels.Matern32(1, lengthscales=1, active_dims=[0])\n",
    "           * gpflow.kernels.Linear(1, variance=variances[0, 1]))\n",
    "\n",
    "kernel2 = (gpflow.kernels.Linear(3, variance=variances[1, :], ARD=True)\n",
    "           + gpflow.kernels.Matern32(1, lengthscales=1, active_dims=[0])\n",
    "           * gpflow.kernels.Linear(1, variance=variances[1, 1]))\n",
    "\n",
    "# Mean dynamics\n",
    "\n",
    "mean_dynamics = safe_learning.LinearSystem((A, B), name='mean_dynamics')\n",
    "mean_function1 = safe_learning.LinearSystem((A[[0], :], B[[0], :]), name='mean_dynamics_1')\n",
    "mean_function2 = safe_learning.LinearSystem((A[[1], :], B[[1], :]), name='mean_dynamics_2')\n",
    "\n",
    "# Define a GP model over the dynamics\n",
    "gp1 = gpflow.gpr.GPR(np.empty((0, 3), dtype=safe_learning.config.np_dtype),\n",
    "                    np.empty((0, 1), dtype=safe_learning.config.np_dtype),\n",
    "                    kernel1,\n",
    "                    mean_function=mean_function1)\n",
    "gp1.likelihood.variance = noise_var\n",
    "\n",
    "gp2 = gpflow.gpr.GPR(np.empty((0, 3), dtype=safe_learning.config.np_dtype),\n",
    "                    np.empty((0, 1), dtype=safe_learning.config.np_dtype),\n",
    "                    kernel2,\n",
    "                    mean_function=mean_function2)\n",
    "gp2.likelihood.variance = noise_var\n",
    "\n",
    "gp1_fun = safe_learning.GaussianProcess(gp1)\n",
    "gp2_fun = safe_learning.GaussianProcess(gp2)\n",
    "\n",
    "dynamics = safe_learning.FunctionStack((gp1_fun, gp2_fun))"
   ]
  },
  {
   "cell_type": "code",
   "execution_count": 8,
   "metadata": {},
   "outputs": [],
   "source": [
    "# Compute the optimal policy for the linear (and wrong) mean dynamics\n",
    "k, s = safe_learning.utilities.dlqr(A, B, q, r)\n",
    "init_policy = safe_learning.LinearSystem((-k), name='initial_policy')\n",
    "init_policy = safe_learning.Saturation(init_policy, -1, 1)\n",
    "\n",
    "# Define the Lyapunov function corresponding to the initial policy\n",
    "init_lyapunov = safe_learning.QuadraticFunction(s)"
   ]
  },
  {
   "cell_type": "markdown",
   "metadata": {},
   "source": [
    "# Set up the dynamic programming problem"
   ]
  },
  {
   "cell_type": "code",
   "execution_count": 9,
   "metadata": {},
   "outputs": [
    {
     "name": "stdout",
     "output_type": "stream",
     "text": [
      "WARNING:tensorflow:From /anaconda3/lib/python3.6/site-packages/safe_learning/functions.py:1471: calling reduce_sum (from tensorflow.python.ops.math_ops) with keep_dims is deprecated and will be removed in a future version.\n",
      "Instructions for updating:\n",
      "keep_dims is deprecated, use keepdims instead\n"
     ]
    },
    {
     "name": "stderr",
     "output_type": "stream",
     "text": [
      "/anaconda3/lib/python3.6/site-packages/tensorflow/python/ops/gradients_impl.py:100: UserWarning: Converting sparse IndexedSlices to a dense Tensor of unknown shape. This may consume a large amount of memory.\n",
      "  \"Converting sparse IndexedSlices to a dense Tensor of unknown shape. \"\n"
     ]
    }
   ],
   "source": [
    "# Define a neural network policy\n",
    "relu = tf.nn.relu\n",
    "policy = safe_learning.NeuralNetwork(layers=[32, 32, 1],\n",
    "                                     nonlinearities=[relu, relu, tf.nn.tanh],\n",
    "                                     scaling=action_limits[0, 1])\n",
    "\n",
    "# Define value function approximation\n",
    "value_function = safe_learning.Triangulation(policy_disc,\n",
    "                                             -init_lyapunov(policy_disc.all_points).eval(),\n",
    "                                             project=True)\n",
    "\n",
    "# Define policy optimization problem\n",
    "rl = safe_learning.PolicyIteration(\n",
    "    policy,\n",
    "    dynamics,\n",
    "    reward_function,\n",
    "    value_function,\n",
    "    gamma=gamma)\n",
    "    \n",
    "\n",
    "with tf.name_scope('rl_mean_optimization'):\n",
    "    rl_opt_value_function = rl.optimize_value_function()\n",
    "    \n",
    "    # Placeholder for states\n",
    "    tf_states_mean = tf.placeholder(safe_learning.config.dtype, [None, 2])\n",
    "    \n",
    "    # Optimize for expected gain\n",
    "    values = rl.future_values(tf_states_mean)\n",
    "    policy_loss = -tf.reduce_mean(values)\n",
    "    \n",
    "    optimizer = tf.train.GradientDescentOptimizer(learning_rate=0.1)\n",
    "    adapt_policy_mean = optimizer.minimize(policy_loss, var_list=rl.policy.parameters)\n"
   ]
  },
  {
   "cell_type": "code",
   "execution_count": 10,
   "metadata": {},
   "outputs": [],
   "source": [
    "# Start the session\n",
    "session.run(tf.global_variables_initializer())"
   ]
  },
  {
   "cell_type": "markdown",
   "metadata": {},
   "source": [
    "### Run initial dynamic programming for the mean dynamics"
   ]
  },
  {
   "cell_type": "code",
   "execution_count": 11,
   "metadata": {},
   "outputs": [],
   "source": [
    "for i in tqdm(range(3000)):\n",
    "    \n",
    "    # select random training batches\n",
    "    rl.feed_dict[tf_states_mean] = policy_disc.sample_continuous(1000)\n",
    "\n",
    "    session.run(adapt_policy_mean, feed_dict=rl.feed_dict)"
   ]
  },
  {
   "cell_type": "code",
   "execution_count": 12,
   "metadata": {},
   "outputs": [],
   "source": [
    "#a_true, b_true = true_dynamics.linearize()\n",
    "#print(a_true, b_true)"
   ]
  },
  {
   "cell_type": "markdown",
   "metadata": {},
   "source": [
    "# Define the Lyapunov function\n",
    "\n",
    "Here we use the fact that the optimal value function is a Lyapunov function for the optimal policy if the dynamics are deterministic. As uncertainty about the dynamics decreases, the value function for the mean dynamics will thus converge to a Lyapunov function."
   ]
  },
  {
   "cell_type": "code",
   "execution_count": 13,
   "metadata": {},
   "outputs": [],
   "source": [
    "lyapunov_function = -rl.value_function\n",
    "lipschitz_lyapunov = lambda x: tf.reduce_max(tf.abs(rl.value_function.gradient(x)),\n",
    "                                             axis=1, keep_dims=True)\n",
    "\n",
    "lipschitz_policy = lambda x: policy.lipschitz() \n",
    "\n",
    "a_true, b_true = true_dynamics.linearize()\n",
    "lipschitz_dynamics = lambda x: np.max(np.abs(a_true)) + np.max(np.abs(b_true)) * lipschitz_policy(x)\n",
    "\n",
    "# Lyapunov function definitial\n",
    "lyapunov = safe_learning.Lyapunov(safety_disc,\n",
    "                                  lyapunov_function,\n",
    "                                  dynamics,\n",
    "                                  lipschitz_dynamics,\n",
    "                                  lipschitz_lyapunov,\n",
    "                                  tau,\n",
    "                                  policy=rl.policy,\n",
    "                                  initial_set=None)\n",
    "\n",
    "# Set initial safe set (level set) based on initial Lyapunov candidate\n",
    "values = init_lyapunov(safety_disc.all_points).eval()\n",
    "cutoff = np.max(values) * 0.005\n",
    "\n",
    "lyapunov.initial_safe_set = np.squeeze(values, axis=1) <= cutoff"
   ]
  },
  {
   "cell_type": "code",
   "execution_count": 14,
   "metadata": {},
   "outputs": [
    {
     "name": "stdout",
     "output_type": "stream",
     "text": [
      "WARNING:tensorflow:From <ipython-input-13-1255e6096f23>:3: calling reduce_max (from tensorflow.python.ops.math_ops) with keep_dims is deprecated and will be removed in a future version.\n",
      "Instructions for updating:\n",
      "keep_dims is deprecated, use keepdims instead\n"
     ]
    },
    {
     "data": {
      "image/png": "[encoded data removed]",
      "text/plain": [
       "<matplotlib.figure.Figure at 0x1c2be1b4e0>"
      ]
     },
     "metadata": {},
     "output_type": "display_data"
    }
   ],
   "source": [
    "def plot_safe_set(lyapunov, show=True):\n",
    "    \"\"\"Plot the safe set for a given Lyapunov function.\"\"\"\n",
    "    plt.imshow(lyapunov.safe_set.reshape(num_states).T,\n",
    "               origin='lower',\n",
    "               extent=lyapunov.discretization.limits.ravel(),\n",
    "               vmin=0,\n",
    "               vmax=1)\n",
    "    \n",
    "    if isinstance(lyapunov.dynamics, safe_learning.UncertainFunction):\n",
    "        X = lyapunov.dynamics.functions[0].X\n",
    "        plt.plot(X[:, 0], X[:, 1], 'rx')\n",
    "    \n",
    "    plt.title('safe set')\n",
    "    plt.colorbar()\n",
    "    if show:\n",
    "        plt.show()\n",
    "    \n",
    "lyapunov.update_safe_set()\n",
    "plot_safe_set(lyapunov)"
   ]
  },
  {
   "cell_type": "markdown",
   "metadata": {},
   "source": [
    "## Safe policy update\n",
    "\n",
    "We do dynamic programming, but enfore the decrease condition on the Lyapunov function using a Lagrange multiplier"
   ]
  },
  {
   "cell_type": "code",
   "execution_count": 15,
   "metadata": {},
   "outputs": [
    {
     "name": "stderr",
     "output_type": "stream",
     "text": [
      "/anaconda3/lib/python3.6/site-packages/tensorflow/python/ops/gradients_impl.py:100: UserWarning: Converting sparse IndexedSlices to a dense Tensor of unknown shape. This may consume a large amount of memory.\n",
      "  \"Converting sparse IndexedSlices to a dense Tensor of unknown shape. \"\n"
     ]
    }
   ],
   "source": [
    "with tf.name_scope('policy_optimization'):\n",
    "    \n",
    "    # Placeholder for states\n",
    "    tf_states = tf.placeholder(safe_learning.config.dtype, [None, 2])\n",
    "    \n",
    "    # Add Lyapunov uncertainty (but only if safety-relevant)\n",
    "    values = rl.future_values(tf_states, lyapunov=lyapunov)\n",
    "    \n",
    "    policy_loss = -tf.reduce_mean(values)\n",
    "    \n",
    "\n",
    "    optimizer = tf.train.GradientDescentOptimizer(learning_rate=0.01)\n",
    "    adapt_policy = optimizer.minimize(policy_loss, var_list=rl.policy.parameters)\n",
    "    \n",
    "    \n",
    "def rl_optimize_policy(num_iter):\n",
    "    # Optimize value function\n",
    "    session.run(rl_opt_value_function, feed_dict=rl.feed_dict)\n",
    "\n",
    "    # select random training batches\n",
    "    for i in tqdm(range(num_iter)):\n",
    "        rl.feed_dict[tf_states] = lyapunov.discretization.sample_continuous(1000)\n",
    "\n",
    "        session.run(adapt_policy, feed_dict=rl.feed_dict)"
   ]
  },
  {
   "cell_type": "markdown",
   "metadata": {},
   "source": [
    "# Exploration\n",
    "\n",
    "We explore close to the current policy by sampling the most uncertain state that does not leave the current level set"
   ]
  },
  {
   "cell_type": "code",
   "execution_count": 16,
   "metadata": {},
   "outputs": [],
   "source": [
    "action_variation = np.array([[-0.02], [0.], [0.02]], dtype=safe_learning.config.np_dtype)\n",
    "\n",
    "\n",
    "with tf.name_scope('add_new_measurement'):\n",
    "        action_dim = lyapunov.policy.output_dim\n",
    "        tf_max_state_action = tf.placeholder(safe_learning.config.dtype,\n",
    "                                             shape=[1, safety_disc.ndim + action_dim])\n",
    "        tf_measurement = true_dynamics(tf_max_state_action)\n",
    "        \n",
    "def update_gp():\n",
    "    \"\"\"Update the GP model based on an actively selected data point.\"\"\"\n",
    "    # Get a new sample location\n",
    "    max_state_action, _ = safe_learning.get_safe_sample(lyapunov,\n",
    "                                                        action_variation,\n",
    "                                                        action_limits,\n",
    "                                                        num_samples=1000)\n",
    "\n",
    "    # Obtain a measurement of the true dynamics\n",
    "    lyapunov.feed_dict[tf_max_state_action] = max_state_action\n",
    "    measurement = tf_measurement.eval(feed_dict=lyapunov.feed_dict)\n",
    "\n",
    "    # Add the measurement to our GP dynamics\n",
    "    lyapunov.dynamics.add_data_point(max_state_action, measurement)\n",
    "    "
   ]
  },
  {
   "cell_type": "markdown",
   "metadata": {},
   "source": [
    "# Run the optimization"
   ]
  },
  {
   "cell_type": "code",
   "execution_count": 17,
   "metadata": {},
   "outputs": [
    {
     "data": {
      "image/png": "[encoded data removed]",
      "text/plain": [
       "<matplotlib.figure.Figure at 0x111b96240>"
      ]
     },
     "metadata": {},
     "output_type": "display_data"
    }
   ],
   "source": [
    "# lyapunov.update_safe_set()\n",
    "rl_optimize_policy(num_iter=200)\n",
    "rl_optimize_policy(num_iter=200)\n",
    "\n",
    "lyapunov.update_safe_set()\n",
    "plot_safe_set(lyapunov)"
   ]
  },
  {
   "cell_type": "code",
   "execution_count": 18,
   "metadata": {},
   "outputs": [
    {
     "name": "stdout",
     "output_type": "stream",
     "text": [
      "iteration 0 with c_max: 1.160695614569574\n"
     ]
    },
    {
     "data": {
      "image/png": "[encoded data removed]",
      "text/plain": [
       "<matplotlib.figure.Figure at 0x1c339cd198>"
      ]
     },
     "metadata": {},
     "output_type": "display_data"
    },
    {
     "name": "stdout",
     "output_type": "stream",
     "text": [
      "iteration 1 with c_max: 10.241420629028186\n"
     ]
    },
    {
     "data": {
      "image/png": "[encoded data removed]",
      "text/plain": [
       "<matplotlib.figure.Figure at 0x1c33bfa358>"
      ]
     },
     "metadata": {},
     "output_type": "display_data"
    },
    {
     "name": "stdout",
     "output_type": "stream",
     "text": [
      "iteration 2 with c_max: 13.080007774113447\n"
     ]
    },
    {
     "data": {
      "image/png": "[encoded data removed]",
      "text/plain": [
       "<matplotlib.figure.Figure at 0x1c3396aa58>"
      ]
     },
     "metadata": {},
     "output_type": "display_data"
    },
    {
     "name": "stdout",
     "output_type": "stream",
     "text": [
      "iteration 3 with c_max: 12.939705902850728\n"
     ]
    },
    {
     "data": {
      "image/png": "[encoded data removed]",
      "text/plain": [
       "<matplotlib.figure.Figure at 0x1c33000c50>"
      ]
     },
     "metadata": {},
     "output_type": "display_data"
    },
    {
     "name": "stdout",
     "output_type": "stream",
     "text": [
      "iteration 4 with c_max: 13.248583409751461\n"
     ]
    },
    {
     "data": {
      "image/png": "[encoded data removed]",
      "text/plain": [
       "<matplotlib.figure.Figure at 0x1c33a27208>"
      ]
     },
     "metadata": {},
     "output_type": "display_data"
    }
   ],
   "source": [
    "for i in range(5):\n",
    "    print('iteration {} with c_max: {}'.format(i, lyapunov.feed_dict[lyapunov.c_max]))\n",
    "    for i in tqdm(range(10)):\n",
    "        update_gp()\n",
    "    \n",
    "    rl_optimize_policy(num_iter=100)\n",
    "    lyapunov.update_values()\n",
    "    \n",
    "    # Update safe set and plot\n",
    "    lyapunov.update_safe_set()\n",
    "    plot_safe_set(lyapunov)    "
   ]
  },
  {
   "cell_type": "markdown",
   "metadata": {},
   "source": [
    "# Plot trajectories and analyse improvement"
   ]
  },
  {
   "cell_type": "code",
   "execution_count": 19,
   "metadata": {},
   "outputs": [],
   "source": [
    "x0 = np.array([[1., -.5]])\n",
    "\n",
    "states_new, actions_new = safe_learning.utilities.compute_trajectory(true_dynamics, rl.policy, x0, 100)\n",
    "states_old, actions_old = safe_learning.utilities.compute_trajectory(true_dynamics, init_policy, x0, 100)\n",
    "\n",
    "t = np.arange(len(states_new)) * true_dynamics.dt"
   ]
  },
  {
   "cell_type": "code",
   "execution_count": 20,
   "metadata": {},
   "outputs": [
    {
     "data": {
      "text/plain": [
       "array([[ 1.00000000e+00, -5.00000000e-01],\n",
       "       [ 8.45085091e-01, -4.11743428e-01],\n",
       "       [ 7.17349789e-01, -3.40146629e-01],\n",
       "       [ 6.11679281e-01, -2.81961534e-01],\n",
       "       [ 5.23954554e-01, -2.34582558e-01],\n",
       "       [ 4.50855546e-01, -1.95918717e-01],\n",
       "       [ 3.89703460e-01, -1.64291263e-01],\n",
       "       [ 3.38334447e-01, -1.38351749e-01],\n",
       "       [ 2.94998375e-01, -1.17016435e-01],\n",
       "       [ 2.58277701e-01, -9.94137680e-02],\n",
       "       [ 2.27022427e-01, -8.48423368e-02],\n",
       "       [ 2.00297947e-01, -7.27371958e-02],\n",
       "       [ 1.77343197e-01, -6.26428965e-02],\n",
       "       [ 1.57537082e-01, -5.41918848e-02],\n",
       "       [ 1.40371517e-01, -4.70871928e-02],\n",
       "       [ 1.25429768e-01, -4.10885695e-02],\n",
       "       [ 1.12369055e-01, -3.60013639e-02],\n",
       "       [ 1.00906547e-01, -3.16676126e-02],\n",
       "       [ 9.08081054e-02, -2.79588919e-02],\n",
       "       [ 8.18792066e-02, -2.47705834e-02],\n",
       "       [ 7.39576285e-02, -2.20172718e-02],\n",
       "       [ 6.69075475e-02, -1.96290499e-02],\n",
       "       [ 6.06147689e-02, -1.75485496e-02],\n",
       "       [ 5.49828682e-02, -1.57285563e-02],\n",
       "       [ 4.99300647e-02, -1.41300894e-02],\n",
       "       [ 4.53866842e-02, -1.27208578e-02],\n",
       "       [ 4.12930960e-02, -1.14740152e-02],\n",
       "       [ 3.75980326e-02, -1.03671566e-02],\n",
       "       [ 3.42572177e-02, -9.38150872e-03],\n",
       "       [ 3.12322427e-02, -8.50127489e-03],\n",
       "       [ 2.84896453e-02, -7.71310563e-03],\n",
       "       [ 2.60001511e-02, -7.00566921e-03],\n",
       "       [ 2.37380469e-02, -6.36930310e-03],\n",
       "       [ 2.16806621e-02, -5.79573051e-03],\n",
       "       [ 1.98079372e-02, -5.27782937e-03],\n",
       "       [ 1.81020638e-02, -4.80944360e-03],\n",
       "       [ 1.65471826e-02, -4.38522855e-03],\n",
       "       [ 1.51291299e-02, -4.00052417e-03],\n",
       "       [ 1.38352227e-02, -3.65125044e-03],\n",
       "       [ 1.26540767e-02, -3.33382111e-03],\n",
       "       [ 1.15754509e-02, -3.04507204e-03],\n",
       "       [ 1.05901145e-02, -2.78220174e-03],\n",
       "       [ 9.68973225e-03, -2.54272159e-03],\n",
       "       [ 8.86676585e-03, -2.32441410e-03],\n",
       "       [ 8.11438756e-03, -2.12529786e-03],\n",
       "       [ 7.42640544e-03, -1.94359775e-03],\n",
       "       [ 6.79719774e-03, -1.77771971e-03],\n",
       "       [ 6.22165515e-03, -1.62622926e-03],\n",
       "       [ 5.69512993e-03, -1.48783290e-03],\n",
       "       [ 5.21339083e-03, -1.36136233e-03],\n",
       "       [ 4.77258304e-03, -1.24576057e-03],\n",
       "       [ 4.36919253e-03, -1.14007009e-03],\n",
       "       [ 4.00001414e-03, -1.04342231e-03],\n",
       "       [ 3.66212305e-03, -9.55028452e-04],\n",
       "       [ 3.35284909e-03, -8.74171545e-04],\n",
       "       [ 3.06975369e-03, -8.00199264e-04],\n",
       "       [ 2.81060903e-03, -7.32517661e-04],\n",
       "       [ 2.57337927e-03, -6.70585563e-04],\n",
       "       [ 2.35620350e-03, -6.13909584e-04],\n",
       "       [ 2.15738038e-03, -5.62039664e-04],\n",
       "       [ 1.97535410e-03, -5.14565069e-04],\n",
       "       [ 1.80870173e-03, -4.71110801e-04],\n",
       "       [ 1.65612167e-03, -4.31334363e-04],\n",
       "       [ 1.51642312e-03, -3.94922842e-04],\n",
       "       [ 1.38851656e-03, -3.61590274e-04],\n",
       "       [ 1.27140503e-03, -3.31075256e-04],\n",
       "       [ 1.16417616e-03, -3.03138788e-04],\n",
       "       [ 1.06599496e-03, -2.77562311e-04],\n",
       "       [ 9.76097200e-04, -2.54145923e-04],\n",
       "       [ 8.93783350e-04, -2.32706763e-04],\n",
       "       [ 8.18413095e-04, -2.13077535e-04],\n",
       "       [ 7.49400288e-04, -1.95105166e-04],\n",
       "       [ 6.86208343e-04, -1.78649585e-04],\n",
       "       [ 6.28346032e-04, -1.63582606e-04],\n",
       "       [ 5.75363637e-04, -1.49786911e-04],\n",
       "       [ 5.26849430e-04, -1.37155124e-04],\n",
       "       [ 4.82426454e-04, -1.25588956e-04],\n",
       "       [ 4.41749583e-04, -1.14998442e-04],\n",
       "       [ 4.04502827e-04, -1.05301222e-04],\n",
       "       [ 3.70396868e-04, -9.64219031e-05],\n",
       "       [ 3.39166805e-04, -8.82914628e-05],\n",
       "       [ 3.10570089e-04, -8.08467116e-05],\n",
       "       [ 2.84384639e-04, -7.40297976e-05],\n",
       "       [ 2.60407109e-04, -6.77877546e-05],\n",
       "       [ 2.38451306e-04, -6.20720885e-05],\n",
       "       [ 2.18346746e-04, -5.68383992e-05],\n",
       "       [ 1.99937321e-04, -5.20460339e-05],\n",
       "       [ 1.83080095e-04, -4.76577708e-05],\n",
       "       [ 1.67644182e-04, -4.36395291e-05],\n",
       "       [ 1.53509737e-04, -3.99601033e-05],\n",
       "       [ 1.40567023e-04, -3.65909207e-05],\n",
       "       [ 1.28715554e-04, -3.35058189e-05],\n",
       "       [ 1.17863320e-04, -3.06808424e-05],\n",
       "       [ 1.07926069e-04, -2.80940563e-05],\n",
       "       [ 9.88266548e-05, -2.57253757e-05],\n",
       "       [ 9.04944340e-05, -2.35564098e-05],\n",
       "       [ 8.28647213e-05, -2.15703185e-05],\n",
       "       [ 7.58782855e-05, -1.97516822e-05],\n",
       "       [ 6.94808895e-05, -1.80863814e-05],\n",
       "       [ 6.36228695e-05, -1.65614873e-05]])"
      ]
     },
     "execution_count": 20,
     "metadata": {},
     "output_type": "execute_result"
    }
   ],
   "source": [
    "states_old"
   ]
  },
  {
   "cell_type": "code",
   "execution_count": 21,
   "metadata": {},
   "outputs": [
    {
     "data": {
      "image/png": "[encoded data removed]",
      "text/plain": [
       "<matplotlib.figure.Figure at 0x1c34511b70>"
      ]
     },
     "metadata": {},
     "output_type": "display_data"
    },
    {
     "data": {
      "image/png": "[encoded data removed]",
      "text/plain": [
       "<matplotlib.figure.Figure at 0x1c343a6d68>"
      ]
     },
     "metadata": {},
     "output_type": "display_data"
    }
   ],
   "source": [
    "plt.plot(t, states_new[:, 0], label='new')\n",
    "plt.plot(t, states_old[:, 0], label='old')\n",
    "plt.xlabel('time [s]')\n",
    "plt.ylabel('angle [rad]')\n",
    "plt.legend()\n",
    "plt.show()\n",
    "\n",
    "plt.plot(t, states_new[:, 1], label='new')\n",
    "plt.plot(t, states_old[:, 1], label='old')\n",
    "plt.xlabel('time [s]')\n",
    "plt.ylabel('angular velocity [rad/s]')\n",
    "plt.legend()\n",
    "plt.show()"
   ]
  },
  {
   "cell_type": "code",
   "execution_count": 22,
   "metadata": {},
   "outputs": [
    {
     "data": {
      "text/plain": [
       "<matplotlib.legend.Legend at 0x1c3396fc88>"
      ]
     },
     "execution_count": 22,
     "metadata": {},
     "output_type": "execute_result"
    },
    {
     "data": {
      "image/png": "[encoded data removed]",
      "text/plain": [
       "<matplotlib.figure.Figure at 0x1c344d8780>"
      ]
     },
     "metadata": {},
     "output_type": "display_data"
    }
   ],
   "source": [
    "plt.plot(t[:-1], actions_new, label='new')\n",
    "plt.plot(t[:-1], actions_old, label='old')\n",
    "plt.xlabel('time [s]')\n",
    "plt.ylabel('actions')\n",
    "plt.legend()"
   ]
  },
  {
   "cell_type": "code",
   "execution_count": 23,
   "metadata": {},
   "outputs": [
    {
     "name": "stdout",
     "output_type": "stream",
     "text": [
      "reward old: -5.748512721023727\n",
      "reward new: -5.518809424408633\n"
     ]
    }
   ],
   "source": [
    "print('reward old:', tf.reduce_sum(rl.reward_function(states_old[:-1], actions_old)).eval(feed_dict=rl.feed_dict))\n",
    "print('reward new:', tf.reduce_sum(rl.reward_function(states_new[:-1], actions_new)).eval(feed_dict=rl.feed_dict))"
   ]
  },
  {
   "cell_type": "code",
   "execution_count": null,
   "metadata": {},
   "outputs": [],
   "source": []
  },
  {
   "cell_type": "code",
   "execution_count": null,
   "metadata": {},
   "outputs": [],
   "source": []
  },
  {
   "cell_type": "code",
   "execution_count": null,
   "metadata": {},
   "outputs": [],
   "source": []
  }
 ],
 "metadata": {
  "anaconda-cloud": {},
  "kernelspec": {
   "display_name": "Python 3",
   "language": "python",
   "name": "python3"
  },
  "language_info": {
   "codemirror_mode": {
    "name": "ipython",
    "version": 3
   },
   "file_extension": ".py",
   "mimetype": "text/x-python",
   "name": "python",
   "nbconvert_exporter": "python",
   "pygments_lexer": "ipython3",
   "version": "3.6.4"
  }
 },
 "nbformat": 4,
 "nbformat_minor": 2
}
